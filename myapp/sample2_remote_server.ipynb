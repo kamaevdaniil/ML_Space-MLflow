{
 "cells": [
  {
   "cell_type": "code",
   "execution_count": 1,
   "id": "7bc92b79-eea3-4c0d-a2e2-ff4f03fc6ac7",
   "metadata": {
    "tags": []
   },
   "outputs": [
    {
     "name": "stdout",
     "output_type": "stream",
     "text": [
      "experiment with the name sample1001 already exists\n",
      "experiment save in sample1001 name\n",
      "uri_artifact file:///home/jovyan/app/mlruns/0/681f0dec3747489c8fcec01279f553b4/artifacts/outputs2/test2.txt\n",
      "Default\n"
     ]
    }
   ],
   "source": [
    "\n",
    "import os\n",
    "from random import random, randint\n",
    "from mlflow import log_metric, log_param, log_artifacts,log_artifact,log_artifacts\n",
    "import mlflow\n",
    "\n",
    "\n",
    "\n",
    "if __name__ == \"__main__\":\n",
    "    mlflow.end_run()\n",
    "    name = 'sample1001'\n",
    "    remote_server_uri = \"http://mlflow:5000\" # set to your server URI\n",
    "    uri_artifact = mlflow.get_artifact_uri(artifact_path=\"outputs2/test2.txt\")\n",
    "    mlflow.set_tracking_uri(remote_server_uri)\n",
    "\n",
    "    try:\n",
    "        experiment_id = mlflow.create_experiment(name,artifact_location=\"/mlruns\")\n",
    "    except:\n",
    "        print(f\"experiment with the name {name} already exists\")\n",
    "        print(f\"experiment save in {name} name\")\n",
    "        print(f\"uri_artifact {uri_artifact}\")\n",
    "        name = name\n",
    "\n",
    "    experiment = mlflow.set_experiment(name)\n",
    "    print(name)\n",
    "    #experiment_id = mlflow.create_experiment(\"experiment1\")\n",
    "    # Log a parameter (key-value pair)\n",
    "    log_param(\"param1\", randint(0, 100))\n",
    "\n",
    "    # Log a metric; metrics can be updated throughout the run\n",
    "    log_metric(\"foo\", random())\n",
    "    log_metric(\"foo\", random() + 1)\n",
    "    log_metric(\"foo\", random() + 2)\n",
    "\n",
    "    # Log an artifact (output file)\n",
    "    if not os.path.exists(\"outputs2\"):\n",
    "        os.makedirs(\"outputs2\")\n",
    "    with open(\"outputs2/test2.txt\", \"w\") as f:\n",
    "        f.write(f\"{mlflow.get_tracking_uri()}  {mlflow.get_artifact_uri()}\")\n",
    "\n",
    "    log_artifacts(\"outputs2/\")\n",
    "\n",
    "# log_artifacts(\"outputs2\")\n",
    "# try:\n",
    "#     log_artifact(\"/outputs2\")\n",
    "# except:\n",
    "#     print('Error')"
   ]
  },
  {
   "cell_type": "code",
   "execution_count": null,
   "id": "d06eb3f1-6134-4503-a2ac-5270ca634637",
   "metadata": {
    "tags": []
   },
   "outputs": [],
   "source": [
    "import mlflow\n",
    "mlflow.end_run()\n",
    "# print(mlflow.get_artifact_uri())\n",
    "remote_server_uri = \"http://mlflow:5000\" # set to your server URI\n",
    "mlflow.set_tracking_uri(remote_server_uri)\n",
    "print(mlflow.get_tracking_uri())\n",
    "print(mlflow.get_artifact_uri(artifact_path=\"outputs2/test2.txt\"))"
   ]
  },
  {
   "cell_type": "code",
   "execution_count": null,
   "id": "87c75539-80ad-4bab-8aa8-3d635193d6d6",
   "metadata": {},
   "outputs": [],
   "source": [
    "import mlflow \n",
    "\n",
    "mlflow.end_run()\n",
    "remote_server_uri = \"http://mlflow:5000\" # set to your server URI\n",
    "mlflow.set_tracking_uri(remote_server_uri)\n",
    "name = \"aaaaa\"\n",
    "experiment_id = mlflow.create_experiment(name)\n",
    "experiment = mlflow.set_experiment(name)\n",
    "\n",
    "with mlflow.start_run(experiment_id=experiment_id):\n",
    "    mlflow.log_param(\"name\", \"tt\")\n",
    "    mlflow.log_param(\"waether\", \"2222\")\n",
    "    mlflow.log_param(\"mood\", \"gg\")\n",
    "    \n",
    "    for i in range(10):\n",
    "        mlflow.log_metric(\"i\", i)\n",
    "        mlflow.log_artifacts(\"/mlruns\")"
   ]
  }
 ],
 "metadata": {
  "kernelspec": {
   "display_name": "Python 3 (ipykernel)",
   "language": "python",
   "name": "python3"
  },
  "language_info": {
   "codemirror_mode": {
    "name": "ipython",
    "version": 3
   },
   "file_extension": ".py",
   "mimetype": "text/x-python",
   "name": "python",
   "nbconvert_exporter": "python",
   "pygments_lexer": "ipython3",
   "version": "3.10.9"
  }
 },
 "nbformat": 4,
 "nbformat_minor": 5
}
