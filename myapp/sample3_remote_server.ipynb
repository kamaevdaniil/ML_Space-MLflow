{
 "cells": [
  {
   "cell_type": "code",
   "execution_count": 1,
   "id": "7bc92b79-eea3-4c0d-a2e2-ff4f03fc6ac7",
   "metadata": {
    "tags": []
   },
   "outputs": [
    {
     "name": "stdout",
     "output_type": "stream",
     "text": [
      "sampleMVP2_3\n"
     ]
    }
   ],
   "source": [
    "\n",
    "import os\n",
    "from random import random, randint\n",
    "from mlflow import log_metric, log_param, log_artifacts,log_artifact,log_artifacts\n",
    "import mlflow\n",
    "\n",
    "\n",
    "\n",
    "if __name__ == \"__main__\":\n",
    "    \n",
    "    name = 'sampleMVP2_3'\n",
    "    # Указываем имя контейнера с удалённым сервером\n",
    "    remote_server_uri = \"http://mlflow:5000\" # set to your server URI\n",
    "    \n",
    "    # uri_artifact = mlflow.get_artifact_uri()\n",
    "    # print(uri_artifact)\n",
    "    mlflow.set_tracking_uri(remote_server_uri)\n",
    "\n",
    "    try:\n",
    "        experiment_id = mlflow.create_experiment(name,artifact_location=\"/home/jovyan/app/mlruns\")\n",
    "    except:\n",
    "        print(f\"experiment with the name {name} already exists\")\n",
    "        print(f\"experiment save in {name} name\")\n",
    "        # print(f\"uri_artifact {uri_artifact}\")\n",
    "        name = name\n",
    "\n",
    "    experiment = mlflow.set_experiment(name)\n",
    "    print(name)\n",
    "\n",
    "    # Log an artifact (output file)\n",
    "    if not os.path.exists(\"outputs2\"):\n",
    "        os.makedirs(\"outputs2\")\n",
    "    with open(\"outputs2/test2.txt\", \"w\") as f:\n",
    "        f.write(f\"{mlflow.get_tracking_uri()} \")\n",
    "\n",
    "\n",
    "    with mlflow.start_run(experiment_id=experiment.experiment_id):\n",
    "        mlflow.log_param(\"name\", \"tt\")\n",
    "        mlflow.log_param(\"waether\", \"test\")\n",
    "        mlflow.log_param(\"mood\", \"gg\")\n",
    "\n",
    "        for i in range(10):\n",
    "            mlflow.log_metric(\"i\", i)\n",
    "            mlflow.log_artifact(\"/home/jovyan/app/outputs2/test2.txt\")\n",
    "    mlflow.end_run()\n",
    "    \n",
    " \n",
    "\n"
   ]
  },
  {
   "cell_type": "code",
   "execution_count": null,
   "id": "d06eb3f1-6134-4503-a2ac-5270ca634637",
   "metadata": {
    "tags": []
   },
   "outputs": [],
   "source": [
    "import mlflow\n",
    "mlflow.end_run()\n",
    "# print(mlflow.get_artifact_uri())\n",
    "remote_server_uri = \"http://mlflow:5000\" # set to your server URI\n",
    "mlflow.set_tracking_uri(remote_server_uri)\n",
    "print(mlflow.get_tracking_uri())\n",
    "print(mlflow.get_artifact_uri(artifact_path=\"outputs2/test2.txt\"))"
   ]
  },
  {
   "cell_type": "code",
   "execution_count": null,
   "id": "87c75539-80ad-4bab-8aa8-3d635193d6d6",
   "metadata": {},
   "outputs": [],
   "source": [
    "import mlflow \n",
    "\n",
    "mlflow.end_run()\n",
    "remote_server_uri = \"http://mlflow:5000\" # set to your server URI\n",
    "mlflow.set_tracking_uri(remote_server_uri)\n",
    "name = \"aaaaa\"\n",
    "experiment_id = mlflow.create_experiment(name)\n",
    "experiment = mlflow.set_experiment(name)\n",
    "\n",
    "with mlflow.start_run(experiment_id=experiment_id):\n",
    "    mlflow.log_param(\"name\", \"tt\")\n",
    "    mlflow.log_param(\"waether\", \"2222\")\n",
    "    mlflow.log_param(\"mood\", \"gg\")\n",
    "    \n",
    "    for i in range(10):\n",
    "        mlflow.log_metric(\"i\", i)\n",
    "        mlflow.log_artifacts(\"/mlruns\")"
   ]
  }
 ],
 "metadata": {
  "kernelspec": {
   "display_name": "Python 3 (ipykernel)",
   "language": "python",
   "name": "python3"
  },
  "language_info": {
   "codemirror_mode": {
    "name": "ipython",
    "version": 3
   },
   "file_extension": ".py",
   "mimetype": "text/x-python",
   "name": "python",
   "nbconvert_exporter": "python",
   "pygments_lexer": "ipython3",
   "version": "3.7.10"
  },
  "vscode": {
   "interpreter": {
    "hash": "abead444ffef8b2d7d2048c28657306b2dbcd439dd409f968dea5dc5dc388e7d"
   }
  }
 },
 "nbformat": 4,
 "nbformat_minor": 5
}
