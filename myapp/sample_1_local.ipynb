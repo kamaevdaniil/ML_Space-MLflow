{
 "cells": [
  {
   "cell_type": "code",
   "execution_count": 1,
   "id": "c78fe644-a62f-4f38-b2d4-e7dd15a71fc6",
   "metadata": {
    "tags": []
   },
   "outputs": [],
   "source": [
    "\n",
    "\n",
    "import os\n",
    "from random import random, randint\n",
    "from mlflow import log_metric, log_param, log_artifacts,log_artifact\n",
    "import mlflow\n",
    "\n",
    "\n",
    "\n",
    "if __name__ == \"__main__\":\n",
    "    # mlflow.end_run()\n",
    "    name = 'sqmple_1_local'\n",
    "    # remote_server_uri = \"http://localhost:5000\" # set to your server URI\n",
    "    # mlflow.set_tracking_uri(remote_server_uri)\n",
    "\n",
    "    try:\n",
    "        experiment_id = mlflow.create_experiment(name)\n",
    "    except:\n",
    "        print(f\"experiment with the name {name} already exists\")\n",
    "        print(f\"experiment save in {name} name\")\n",
    "        # name = name\n",
    "\n",
    "    experiment = mlflow.set_experiment(name)\n",
    "    #experiment_id = mlflow.create_experiment(\"experiment1\")\n",
    "    # Log a parameter (key-value pair)\n",
    "    log_param(\"param1\", randint(0, 100))\n",
    "\n",
    "    # Log a metric; metrics can be updated throughout the run\n",
    "    log_metric(\"foo\", random())\n",
    "    log_metric(\"foo\", random() + 1)\n",
    "    log_metric(\"foo\", random() + 2)\n",
    "\n",
    "    # Log an artifact (output file)\n",
    "    if not os.path.exists(\"outputs2\"):\n",
    "        os.makedirs(\"outputs2\")\n",
    "    with open(\"outputs2/test2.txt\", \"w\") as f:\n",
    "        f.write(f\"{mlflow.get_tracking_uri()}  {mlflow.get_artifact_uri()}\")\n",
    "\n",
    "    log_artifact(\"outputs2/test2.txt\")\n",
    "    mlflow.end_run()\n",
    "\n",
    "# log_artifacts(\"outputs2\")\n",
    "# try:\n",
    "#     log_artifact(\"/outputs2\")\n",
    "# except:\n",
    "#     print('Error')"
   ]
  },
  {
   "cell_type": "code",
   "execution_count": null,
   "id": "93817b05-8ba7-4ba6-97fe-4f52448e5244",
   "metadata": {
    "tags": []
   },
   "outputs": [],
   "source": [
    "if not os.path.exists(\"outputs2\"):\n",
    "    os.makedirs(\"outputs2\")\n",
    "with open(\"outputs2/test2.txt\", \"w\") as f:\n",
    "    f.write(f\"{mlflow.get_tracking_uri()}  {mlflow.get_artifact_uri()}\")\n"
   ]
  }
 ],
 "metadata": {
  "kernelspec": {
   "display_name": "Python 3 (ipykernel)",
   "language": "python",
   "name": "python3"
  },
  "language_info": {
   "codemirror_mode": {
    "name": "ipython",
    "version": 3
   },
   "file_extension": ".py",
   "mimetype": "text/x-python",
   "name": "python",
   "nbconvert_exporter": "python",
   "pygments_lexer": "ipython3",
   "version": "3.7.10"
  },
  "vscode": {
   "interpreter": {
    "hash": "abead444ffef8b2d7d2048c28657306b2dbcd439dd409f968dea5dc5dc388e7d"
   }
  }
 },
 "nbformat": 4,
 "nbformat_minor": 5
}
