{
 "cells": [
  {
   "cell_type": "markdown",
   "id": "46eb6929-d2b7-4d01-b286-44e32ee22915",
   "metadata": {},
   "source": [
    "## Sample with remote server local file storage\n",
    "### Model tracking not work, need change backend-storage-uri on sqlite:///mlruns.db\n",
    "### Import libraris"
   ]
  },
  {
   "cell_type": "code",
   "execution_count": 1,
   "id": "052056c0-d4f3-43d0-bcf7-d619589b1764",
   "metadata": {
    "tags": []
   },
   "outputs": [
    {
     "name": "stdout",
     "output_type": "stream",
     "text": [
      "1.26.1\n"
     ]
    }
   ],
   "source": [
    "import os\n",
    "from random import random, randint\n",
    "from mlflow import log_metric, log_param, log_artifacts\n",
    "from mlflow.tracking import MlflowClient\n",
    "import mlflow\n",
    "# remote_server_uri = \"http://mlflow:5000/\" # set to your server URI\n",
    "# mlflow.set_tracking_uri(remote_server_uri)\n",
    "print(mlflow.__version__)\n",
    "# print(mlflow.get_tracking_uri())\n",
    "#print(mlflow.get_artifact_uri())\n",
    "# mlflow.set_experiment('ex-beta-5')\n",
    "# mlflow.set_tracking_uri('http://127.0.0.1:5000')\n",
    "# mlflow.end_run()"
   ]
  },
  {
   "cell_type": "markdown",
   "id": "4ac98499-a45a-48e5-ac67-c7aaddfff837",
   "metadata": {},
   "source": [
    "### Set remote server uri and set_tracking "
   ]
  },
  {
   "cell_type": "code",
   "execution_count": 2,
   "id": "eebda756-1a1b-4b7e-b791-8d1f22980c7b",
   "metadata": {
    "tags": []
   },
   "outputs": [],
   "source": [
    "remote_server_uri = \"http://mlflow:5000\" # set to your server URI\n",
    "mlflow.set_tracking_uri(remote_server_uri)"
   ]
  },
  {
   "cell_type": "markdown",
   "id": "c771c3c5-93d2-4ca8-88ce-9ddae7975b7d",
   "metadata": {},
   "source": [
    "### Create experiment"
   ]
  },
  {
   "cell_type": "code",
   "execution_count": 3,
   "id": "cd125d40-2824-4b5e-9590-49e95bd32ba3",
   "metadata": {
    "tags": []
   },
   "outputs": [
    {
     "name": "stdout",
     "output_type": "stream",
     "text": [
      "0\n"
     ]
    }
   ],
   "source": [
    "experiment_id = mlflow.create_experiment('main2')\n",
    "print(experiment_id)"
   ]
  },
  {
   "cell_type": "markdown",
   "id": "de11dddc-24b3-4556-954b-f65923f34372",
   "metadata": {},
   "source": [
    "### Set Existing experiment and get id_experiment\n"
   ]
  },
  {
   "cell_type": "code",
   "execution_count": 4,
   "id": "8f2fc9c3-402b-4328-ac3a-31c28426578b",
   "metadata": {
    "tags": []
   },
   "outputs": [
    {
     "name": "stdout",
     "output_type": "stream",
     "text": [
      "0\n",
      "None\n",
      "{'artifact_location': 'file:///home/jovyan/app/mlruns/0', 'experiment_id': '0', 'lifecycle_stage': 'active', 'name': 'main2', 'tags': {}}\n"
     ]
    }
   ],
   "source": [
    "\n",
    "name = \"main2\"\n",
    "# mlflow.create_experiment('main3')\n",
    "mlflow.set_experiment(name)\n",
    "\n",
    "current_experiment = mlflow.get_experiment_by_name(name)\n",
    "run_active = mlflow.active_run()\n",
    "\n",
    "experiment_id = current_experiment.experiment_id\n",
    "\n",
    "print(current_experiment.experiment_id)\n",
    "print(run_active)\n",
    "print(dict(current_experiment))\n"
   ]
  },
  {
   "cell_type": "code",
   "execution_count": 5,
   "id": "7029adee-5bb5-405b-8e66-9d75bec87571",
   "metadata": {
    "tags": []
   },
   "outputs": [],
   "source": [
    "# mlflow.end_run()\n",
    "remote_server_uri = \"http://mlflow:5000\" # set to your server URI\n",
    "mlflow.set_tracking_uri(remote_server_uri)\n",
    "# name = \"main2\"\n",
    "# experiment_id = mlflow.create_experiment(name)\n",
    "# uri_artifact = mlflow.get_artifact_uri(artifact_path=\"outputs2/test2.txt\")\n",
    "\n",
    "\n",
    "# experiment = mlflow.set_experiment(name)\n",
    "\n",
    "    \n",
    "with mlflow.start_run(experiment_id=experiment_id):\n",
    "    mlflow.log_param(\"name\", \"tt\")\n",
    "    mlflow.log_param(\"waether\", \"2222\")\n",
    "    mlflow.log_param(\"mood\", \"gg\")\n",
    "\n",
    "    for i in range(10):\n",
    "        mlflow.log_metric(\"i\", i)\n",
    "        mlflow.log_artifacts(\"outputs2/\")"
   ]
  },
  {
   "cell_type": "markdown",
   "id": "a783c3db-a43d-426f-aeb5-585de4ed9337",
   "metadata": {},
   "source": [
    "### Посмотреть прогон и отключить сразу)"
   ]
  },
  {
   "cell_type": "code",
   "execution_count": null,
   "id": "5b0a5696-d642-4cf9-a370-d01617354795",
   "metadata": {
    "tags": []
   },
   "outputs": [],
   "source": [
    "mlflow.end_run()\n",
    "print(mlflow.get_tracking_uri())\n",
    "\n",
    "#Если ни один прогон не активен, этот метод создаст новый активный прогон.\n",
    "print(mlflow.get_artifact_uri())\n",
    "run_active = mlflow.active_run()\n",
    "print(run_active)\n",
    "\n",
    "# mlflow.end_run()"
   ]
  },
  {
   "cell_type": "code",
   "execution_count": null,
   "id": "22ae624f-9f7f-4936-8086-1c6e47a32fb0",
   "metadata": {},
   "outputs": [],
   "source": [
    "client =MlflowClient()\n",
    "data = client.get_run(mlflow.active_run().info.run_id).data\n",
    "print(data)\n",
    "run_active = mlflow.active_run()\n"
   ]
  },
  {
   "cell_type": "code",
   "execution_count": 9,
   "id": "b6e80d21-2c5d-412e-8dee-7c509d967ffb",
   "metadata": {
    "tags": []
   },
   "outputs": [
    {
     "name": "stdout",
     "output_type": "stream",
     "text": [
      "None\n"
     ]
    }
   ],
   "source": [
    "mlflow.end_run()\n",
    "run_active = mlflow.active_run()\n",
    "print(run_active)"
   ]
  }
 ],
 "metadata": {
  "kernelspec": {
   "display_name": "Python 3.7.10 ('env')",
   "language": "python",
   "name": "python3"
  },
  "language_info": {
   "codemirror_mode": {
    "name": "ipython",
    "version": 3
   },
   "file_extension": ".py",
   "mimetype": "text/x-python",
   "name": "python",
   "nbconvert_exporter": "python",
   "pygments_lexer": "ipython3",
   "version": "3.7.10"
  },
  "vscode": {
   "interpreter": {
    "hash": "abead444ffef8b2d7d2048c28657306b2dbcd439dd409f968dea5dc5dc388e7d"
   }
  }
 },
 "nbformat": 4,
 "nbformat_minor": 5
}
