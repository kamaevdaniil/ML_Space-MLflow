{
 "cells": [
  {
   "cell_type": "code",
   "execution_count": 1,
   "id": "2d5db9ec-9eaf-40de-bc99-d0af11a26036",
   "metadata": {
    "tags": []
   },
   "outputs": [
    {
     "name": "stdout",
     "output_type": "stream",
     "text": [
      "Collecting pyftpdlib\n",
      "  Downloading pyftpdlib-1.5.7.tar.gz (196 kB)\n",
      "\u001b[2K     \u001b[90m━━━━━━━━━━━━━━━━━━━━━━━━━━━━━━━━━━━━━━━\u001b[0m \u001b[32m196.1/196.1 kB\u001b[0m \u001b[31m2.0 MB/s\u001b[0m eta \u001b[36m0:00:00\u001b[0ma \u001b[36m0:00:01\u001b[0m\n",
      "\u001b[?25h  Preparing metadata (setup.py) ... \u001b[?25ldone\n",
      "\u001b[?25hBuilding wheels for collected packages: pyftpdlib\n",
      "  Building wheel for pyftpdlib (setup.py) ... \u001b[?25ldone\n",
      "\u001b[?25h  Created wheel for pyftpdlib: filename=pyftpdlib-1.5.7-py3-none-any.whl size=128073 sha256=f56623443f4d7d380aba610898c63311678fc8eb00a6ba140e30e1f6fd40d66b\n",
      "  Stored in directory: /home/jovyan/.cache/pip/wheels/63/4e/ed/b2f2dbee4144f6b4cadb7eec02f6c6fac8b105cee209307432\n",
      "Successfully built pyftpdlib\n",
      "Installing collected packages: pyftpdlib\n",
      "Successfully installed pyftpdlib-1.5.7\n"
     ]
    }
   ],
   "source": [
    "!pip install pyftpdlib "
   ]
  },
  {
   "cell_type": "code",
   "execution_count": 5,
   "id": "70da796d-33b4-40c0-86fb-b3192b3d9937",
   "metadata": {
    "tags": []
   },
   "outputs": [],
   "source": [
    "from ftplib import FTP\n",
    "\n",
    "\n",
    "global ftp\n",
    "ftp = FTP('ftpd_server', user='mlflow', passwd='mlflow_password')\n"
   ]
  }
 ],
 "metadata": {
  "kernelspec": {
   "display_name": "Python 3 (ipykernel)",
   "language": "python",
   "name": "python3"
  },
  "language_info": {
   "codemirror_mode": {
    "name": "ipython",
    "version": 3
   },
   "file_extension": ".py",
   "mimetype": "text/x-python",
   "name": "python",
   "nbconvert_exporter": "python",
   "pygments_lexer": "ipython3",
   "version": "3.10.9"
  }
 },
 "nbformat": 4,
 "nbformat_minor": 5
}
